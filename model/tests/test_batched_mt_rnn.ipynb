{
 "cells": [
  {
   "cell_type": "code",
   "execution_count": 1,
   "metadata": {},
   "outputs": [],
   "source": [
    "import sys\n",
    "import os\n",
    "import pandas as pd\n",
    "import string\n",
    "import numpy as np\n",
    "import re\n",
    "import spacy\n",
    "import es_core_news_sm\n",
    "from torchtext.data import Field\n",
    "from torchtext.data import TabularDataset\n",
    "from torchtext.data import BucketIterator\n",
    "from sklearn.model_selection import train_test_split\n",
    "import torch\n",
    "from model.Utils import GradientDescentMomentum\n",
    "from model.Utils import exponentialDecaySchedule\n",
    "from model.sequence_to_sequence_network import Seq2Seq_rnn"
   ]
  },
  {
   "cell_type": "code",
   "execution_count": 2,
   "metadata": {},
   "outputs": [],
   "source": [
    "data_path = os.path.join(sys.path[0], 'data/spa.txt')\n",
    "lines= pd.read_table(data_path,  names =['eng', 'spa', 'comments'])\n",
    "train,valid = train_test_split(lines, test_size=0.1)"
   ]
  },
  {
   "cell_type": "code",
   "execution_count": 3,
   "metadata": {},
   "outputs": [],
   "source": [
    "train.to_csv('train.csv')\n",
    "valid.to_csv('valid.csv')"
   ]
  },
  {
   "cell_type": "code",
   "execution_count": 4,
   "metadata": {},
   "outputs": [
    {
     "name": "stderr",
     "output_type": "stream",
     "text": [
      "/Users/khaira/Documents/NeuralMachineTranslation/venv/lib/python3.8/site-packages/torchtext/data/field.py:150: UserWarning: Field class will be retired in the 0.8.0 release and moved to torchtext.legacy. Please see 0.7.0 release notes for further information.\n",
      "  warnings.warn('{} class will be retired in the 0.8.0 release and moved to torchtext.legacy. Please see 0.7.0 release notes for further information.'.format(self.__class__.__name__), UserWarning)\n"
     ]
    }
   ],
   "source": [
    "# use spacy for tokenization - provides good support for tokenization in languages other than english\n",
    "eng_field = Field(tokenize=\"spacy\",\n",
    "                 tokenizer_language=\"en\",\n",
    "                 init_token=\"<sos>\",\n",
    "                 eos_token = \"<eos>\",\n",
    "                 lower = True)\n",
    "\n",
    "spa_field = Field(tokenize=\"spacy\",\n",
    "                 tokenizer_language=\"es\",\n",
    "                 init_token=\"<sos>\",\n",
    "                 eos_token = \"<eos>\",\n",
    "                 lower=True)"
   ]
  },
  {
   "cell_type": "code",
   "execution_count": 5,
   "metadata": {},
   "outputs": [],
   "source": [
    "tabular_data_fields = [(\"id\", None), ('eng', eng_field), ('spa', spa_field),('comments',None)]"
   ]
  },
  {
   "cell_type": "code",
   "execution_count": 6,
   "metadata": {},
   "outputs": [
    {
     "name": "stderr",
     "output_type": "stream",
     "text": [
      "/Users/khaira/Documents/NeuralMachineTranslation/venv/lib/python3.8/site-packages/torchtext/data/example.py:68: UserWarning: Example class will be retired in the 0.8.0 release and moved to torchtext.legacy. Please see 0.7.0 release notes for further information.\n",
      "  warnings.warn('Example class will be retired in the 0.8.0 release and moved to torchtext.legacy. Please see 0.7.0 release notes for further information.', UserWarning)\n",
      "/Users/khaira/Documents/NeuralMachineTranslation/venv/lib/python3.8/site-packages/torchtext/data/example.py:78: UserWarning: Example class will be retired in the 0.8.0 release and moved to torchtext.legacy. Please see 0.7.0 release notes for further information.\n",
      "  warnings.warn('Example class will be retired in the 0.8.0 release and moved to torchtext.legacy. Please see 0.7.0 release notes for further information.', UserWarning)\n"
     ]
    }
   ],
   "source": [
    "train, valid = TabularDataset.splits(\n",
    "\n",
    "path = './',\n",
    "train='train.csv',\n",
    "validation='valid.csv',\n",
    "format = 'csv',\n",
    "skip_header = True,\n",
    "fields = tabular_data_fields)"
   ]
  },
  {
   "cell_type": "code",
   "execution_count": 7,
   "metadata": {},
   "outputs": [],
   "source": [
    "eng_field.build_vocab(train, valid)"
   ]
  },
  {
   "cell_type": "code",
   "execution_count": 8,
   "metadata": {},
   "outputs": [],
   "source": [
    "spa_field.build_vocab(train, valid)"
   ]
  },
  {
   "cell_type": "code",
   "execution_count": 15,
   "metadata": {},
   "outputs": [
    {
     "name": "stderr",
     "output_type": "stream",
     "text": [
      "/Users/khaira/Documents/NeuralMachineTranslation/venv/lib/python3.8/site-packages/torchtext/data/iterator.py:48: UserWarning: BucketIterator class will be retired in the 0.8.0 release and moved to torchtext.legacy. Please see 0.7.0 release notes for further information.\n",
      "  warnings.warn('{} class will be retired in the 0.8.0 release and moved to torchtext.legacy. Please see 0.7.0 release notes for further information.'.format(self.__class__.__name__), UserWarning)\n"
     ]
    }
   ],
   "source": [
    "train_iter, val_iter = BucketIterator.splits((train, valid),\n",
    "batch_size = 32, sort_key = lambda x: len(x.eng))"
   ]
  },
  {
   "cell_type": "code",
   "execution_count": 18,
   "metadata": {},
   "outputs": [],
   "source": [
    "def confirm_mapping(src, trg):\n",
    "    src = np.copy(src)\n",
    "    vfunc = np.vectorize(lambda x: eng_field.vocab.itos[x])\n",
    "    saved_src = vfunc(src)\n",
    "    \n",
    "    trg = np.copy(trg)\n",
    "    xfunc = np.vectorize(lambda x: spa_field.vocab.itos[x])\n",
    "    saved_trg = xfunc(trg)\n",
    "    \n",
    "    return saved_src, saved_trg"
   ]
  },
  {
   "cell_type": "code",
   "execution_count": 19,
   "metadata": {},
   "outputs": [],
   "source": [
    "spa = \"spa\"\n",
    "eng= \"eng\""
   ]
  },
  {
   "cell_type": "code",
   "execution_count": 20,
   "metadata": {
    "tags": []
   },
   "outputs": [
    {
     "name": "stdout",
     "output_type": "stream",
     "text": [
      "<class 'torch.Tensor'>\n",
      "torch.Size([5, 32])\n",
      "torch.Size([9, 32])\n"
     ]
    }
   ],
   "source": [
    "for i, batch in enumerate(val_iter):\n",
    "    print(type(batch.eng))\n",
    "    saved = batch.spa.numpy()\n",
    "    if (type(batch.eng) == torch.Tensor):\n",
    "        src2 = batch.eng[:,0].numpy()\n",
    "        trg2 = batch.spa[:,0].numpy()\n",
    "    print(batch.eng.shape)\n",
    "    print(batch.spa.shape)\n",
    "    break"
   ]
  },
  {
   "cell_type": "code",
   "execution_count": 43,
   "metadata": {},
   "outputs": [],
   "source": [
    "seq2seq_obj = Seq2Seq_rnn(eos_int=spa_field.vocab.stoi['<eos>'], sos_int=spa_field.vocab.stoi['<sos>']\n",
    "                          , vocab_size_src = len(eng_field.vocab), vocab_size_trg=len(spa_field.vocab),\n",
    "                          dim_embed_src=812, dim_embed_trg =812, src_map_i2c = eng_field.vocab.itos,\n",
    "                          trg_map_i2c = spa_field.vocab.itos, num_neurons_encoder = 812, num_neurons_decoder = 812,\n",
    "                          optim = GradientDescentMomentum)"
   ]
  },
  {
   "cell_type": "code",
   "execution_count": 44,
   "metadata": {},
   "outputs": [],
   "source": [
    "eng = \"eng\"\n",
    "spa = \"spa\"\n",
    "lr_schedule = exponentialDecaySchedule(0.96, 100)"
   ]
  },
  {
   "cell_type": "code",
   "execution_count": null,
   "metadata": {},
   "outputs": [
    {
     "name": "stderr",
     "output_type": "stream",
     "text": [
      "\r",
      "  0%|          | 0/5000 [00:00<?, ?it/s]"
     ]
    },
    {
     "name": "stdout",
     "output_type": "stream",
     "text": [
      "Entering epoch: 0, batch number 0!\n",
      "Entering epoch: 0, batch number 1!\n",
      "Entering epoch: 0, batch number 2!\n",
      "Entering epoch: 0, batch number 3!\n",
      "Entering epoch: 0, batch number 4!\n",
      "old learn rate: 0.001, new learn rate: 0.001\n",
      "?cometiendo\n",
      "Batch 0, input_sentence: <sos> we understand . <eos> translated sentence: ?cometiendo\n"
     ]
    },
    {
     "name": "stderr",
     "output_type": "stream",
     "text": [
      "\r",
      "  0%|          | 1/5000 [00:28<39:42:01, 28.59s/it]"
     ]
    },
    {
     "name": "stdout",
     "output_type": "stream",
     "text": [
      "Epoch num: 0, Train Loss: 157.7703411484086, Validation Loss: 64.26101935860306\n",
      "Epoch num: 0, Train Loss: 157.7703411484086\n",
      "Entering epoch: 1, batch number 0!\n",
      "Entering epoch: 1, batch number 1!\n",
      "Entering epoch: 1, batch number 2!\n",
      "Entering epoch: 1, batch number 3!\n",
      "Entering epoch: 1, batch number 4!\n",
      "old learn rate: 0.001, new learn rate: 0.0009995918633652226\n",
      "<pad>\n",
      "Batch 0, input_sentence: <sos> we understand . <eos> translated sentence: <pad>\n"
     ]
    },
    {
     "name": "stderr",
     "output_type": "stream",
     "text": [
      "\r",
      "  0%|          | 2/5000 [00:58<40:20:36, 29.06s/it]"
     ]
    },
    {
     "name": "stdout",
     "output_type": "stream",
     "text": [
      "Epoch num: 1, Train Loss: 160.58749912636418, Validation Loss: 70.56211623128141\n",
      "Epoch num: 1, Train Loss: 160.58749912636418\n",
      "Entering epoch: 2, batch number 0!\n",
      "Entering epoch: 2, batch number 1!\n",
      "Entering epoch: 2, batch number 2!\n",
      "Entering epoch: 2, batch number 3!\n",
      "Entering epoch: 2, batch number 4!\n",
      "old learn rate: 0.0009995918633652226, new learn rate: 0.0009987760897542202\n",
      "<pad>\n",
      "Batch 0, input_sentence: <sos> we understand . <eos> translated sentence: <pad>\n"
     ]
    },
    {
     "name": "stderr",
     "output_type": "stream",
     "text": [
      "\r",
      "  0%|          | 3/5000 [01:28<40:49:53, 29.42s/it]"
     ]
    },
    {
     "name": "stdout",
     "output_type": "stream",
     "text": [
      "Epoch num: 2, Train Loss: 164.48135290714436, Validation Loss: 71.15352507162316\n",
      "Epoch num: 2, Train Loss: 164.48135290714436\n",
      "Entering epoch: 3, batch number 0!\n",
      "Entering epoch: 3, batch number 1!\n",
      "Entering epoch: 3, batch number 2!\n",
      "Entering epoch: 3, batch number 3!\n",
      "Entering epoch: 3, batch number 4!\n",
      "old learn rate: 0.0009987760897542202, new learn rate: 0.00099755367746473\n",
      ".\n",
      "Batch 0, input_sentence: <sos> we understand . <eos> translated sentence: .\n"
     ]
    },
    {
     "name": "stderr",
     "output_type": "stream",
     "text": [
      "\r",
      "  0%|          | 4/5000 [02:07<44:39:10, 32.18s/it]"
     ]
    },
    {
     "name": "stdout",
     "output_type": "stream",
     "text": [
      "Epoch num: 3, Train Loss: 161.1314986701658, Validation Loss: 71.16219907994008\n",
      "Epoch num: 3, Train Loss: 161.1314986701658\n",
      "Entering epoch: 4, batch number 0!\n",
      "Entering epoch: 4, batch number 1!\n",
      "Entering epoch: 4, batch number 2!\n",
      "Entering epoch: 4, batch number 3!\n",
      "Entering epoch: 4, batch number 4!\n",
      "old learn rate: 0.00099755367746473, new learn rate: 0.0009959261213978506\n",
      ".\n",
      "Batch 0, input_sentence: <sos> we understand . <eos> translated sentence: .\n"
     ]
    },
    {
     "name": "stderr",
     "output_type": "stream",
     "text": [
      "\r",
      "  0%|          | 5/5000 [02:45<47:10:01, 33.99s/it]"
     ]
    },
    {
     "name": "stdout",
     "output_type": "stream",
     "text": [
      "Epoch num: 4, Train Loss: 202.84874287616003, Validation Loss: 71.10500708912033\n",
      "Epoch num: 4, Train Loss: 202.84874287616003\n",
      "Entering epoch: 5, batch number 0!\n",
      "Entering epoch: 5, batch number 1!\n",
      "Entering epoch: 5, batch number 2!\n",
      "Entering epoch: 5, batch number 3!\n",
      "Entering epoch: 5, batch number 4!\n",
      "old learn rate: 0.0009959261213978506, new learn rate: 0.0009938954100115738\n",
      ".\n",
      "Batch 0, input_sentence: <sos> we understand . <eos> translated sentence: .\n"
     ]
    },
    {
     "name": "stderr",
     "output_type": "stream",
     "text": [
      "\r",
      "  0%|          | 6/5000 [03:23<48:35:51, 35.03s/it]"
     ]
    },
    {
     "name": "stdout",
     "output_type": "stream",
     "text": [
      "Epoch num: 5, Train Loss: 146.45954772156887, Validation Loss: 71.03511598125556\n",
      "Epoch num: 5, Train Loss: 146.45954772156887\n",
      "Entering epoch: 6, batch number 0!\n",
      "Entering epoch: 6, batch number 1!\n",
      "Entering epoch: 6, batch number 2!\n",
      "Entering epoch: 6, batch number 3!\n",
      "Entering epoch: 6, batch number 4!\n",
      "old learn rate: 0.0009938954100115738, new learn rate: 0.0009914640212723609\n",
      ".\n",
      "Batch 0, input_sentence: <sos> we understand . <eos> translated sentence: .\n"
     ]
    },
    {
     "name": "stderr",
     "output_type": "stream",
     "text": [
      "\r",
      "  0%|          | 7/5000 [04:00<49:39:31, 35.80s/it]"
     ]
    },
    {
     "name": "stdout",
     "output_type": "stream",
     "text": [
      "Epoch num: 6, Train Loss: 170.02852692424898, Validation Loss: 70.95822090017057\n",
      "Epoch num: 6, Train Loss: 170.02852692424898\n",
      "Entering epoch: 7, batch number 0!\n",
      "Entering epoch: 7, batch number 1!\n",
      "Entering epoch: 7, batch number 2!\n",
      "Entering epoch: 7, batch number 3!\n",
      "Entering epoch: 7, batch number 4!\n",
      "old learn rate: 0.0009914640212723609, new learn rate: 0.000988634917616305\n",
      ".\n",
      "Batch 0, input_sentence: <sos> we understand . <eos> translated sentence: .\n"
     ]
    },
    {
     "name": "stderr",
     "output_type": "stream",
     "text": [
      "\r",
      "  0%|          | 8/5000 [04:39<50:43:48, 36.58s/it]"
     ]
    },
    {
     "name": "stdout",
     "output_type": "stream",
     "text": [
      "Epoch num: 7, Train Loss: 166.73263756591555, Validation Loss: 70.87402073471522\n",
      "Epoch num: 7, Train Loss: 166.73263756591555\n",
      "Entering epoch: 8, batch number 0!\n",
      "Entering epoch: 8, batch number 1!\n",
      "Entering epoch: 8, batch number 2!\n",
      "Entering epoch: 8, batch number 3!\n",
      "Entering epoch: 8, batch number 4!\n",
      "old learn rate: 0.000988634917616305, new learn rate: 0.000985411539934217\n",
      ".\n",
      "Batch 0, input_sentence: <sos> we understand . <eos> translated sentence: .\n"
     ]
    },
    {
     "name": "stderr",
     "output_type": "stream",
     "text": [
      "\r",
      "  0%|          | 9/5000 [05:17<51:28:35, 37.13s/it]"
     ]
    },
    {
     "name": "stdout",
     "output_type": "stream",
     "text": [
      "Epoch num: 8, Train Loss: 164.3948513335991, Validation Loss: 70.78330005129028\n",
      "Epoch num: 8, Train Loss: 164.3948513335991\n",
      "Entering epoch: 9, batch number 0!\n",
      "Entering epoch: 9, batch number 1!\n",
      "Entering epoch: 9, batch number 2!\n",
      "Entering epoch: 9, batch number 3!\n",
      "Entering epoch: 9, batch number 4!\n",
      "old learn rate: 0.000985411539934217, new learn rate: 0.0009817978005977359\n",
      ".\n",
      "Batch 0, input_sentence: <sos> we understand . <eos> translated sentence: .\n"
     ]
    },
    {
     "name": "stderr",
     "output_type": "stream",
     "text": [
      "\r",
      "  0%|          | 10/5000 [05:55<51:53:23, 37.44s/it]"
     ]
    },
    {
     "name": "stdout",
     "output_type": "stream",
     "text": [
      "Epoch num: 9, Train Loss: 145.77862309566632, Validation Loss: 70.68437413489468\n",
      "Epoch num: 9, Train Loss: 145.77862309566632\n",
      "Entering epoch: 10, batch number 0!\n",
      "Entering epoch: 10, batch number 1!\n",
      "Entering epoch: 10, batch number 2!\n",
      "Entering epoch: 10, batch number 3!\n",
      "Entering epoch: 10, batch number 4!\n",
      "old learn rate: 0.0009817978005977359, new learn rate: 0.0009777980755462435\n",
      ".\n",
      "Batch 0, input_sentence: <sos> we understand . <eos> translated sentence: .\n"
     ]
    },
    {
     "name": "stderr",
     "output_type": "stream",
     "text": [
      "\r",
      "  0%|          | 11/5000 [06:34<52:24:26, 37.82s/it]"
     ]
    },
    {
     "name": "stdout",
     "output_type": "stream",
     "text": [
      "Epoch num: 10, Train Loss: 147.4700622168826, Validation Loss: 70.5756318156337\n",
      "Epoch num: 10, Train Loss: 147.4700622168826\n",
      "Entering epoch: 11, batch number 0!\n",
      "Entering epoch: 11, batch number 1!\n",
      "Entering epoch: 11, batch number 2!\n",
      "Entering epoch: 11, batch number 3!\n",
      "Entering epoch: 11, batch number 4!\n",
      "old learn rate: 0.0009777980755462435, new learn rate: 0.0009734171954569908\n",
      ".\n",
      "Batch 0, input_sentence: <sos> we understand . <eos> translated sentence: .\n"
     ]
    },
    {
     "name": "stderr",
     "output_type": "stream",
     "text": [
      "\r",
      "  0%|          | 12/5000 [07:14<53:06:10, 38.33s/it]"
     ]
    },
    {
     "name": "stdout",
     "output_type": "stream",
     "text": [
      "Epoch num: 11, Train Loss: 180.22757902005128, Validation Loss: 70.45758618587034\n",
      "Epoch num: 11, Train Loss: 180.22757902005128\n",
      "Entering epoch: 12, batch number 0!\n",
      "Entering epoch: 12, batch number 1!\n",
      "Entering epoch: 12, batch number 2!\n",
      "Entering epoch: 12, batch number 3!\n",
      "Entering epoch: 12, batch number 4!\n",
      "old learn rate: 0.0009734171954569908, new learn rate: 0.0009686604360233728\n",
      ".\n",
      "Batch 0, input_sentence: <sos> we understand . <eos> translated sentence: .\n"
     ]
    },
    {
     "name": "stderr",
     "output_type": "stream",
     "text": [
      "\r",
      "  0%|          | 13/5000 [07:52<53:15:12, 38.44s/it]"
     ]
    },
    {
     "name": "stdout",
     "output_type": "stream",
     "text": [
      "Epoch num: 12, Train Loss: 150.43459731574583, Validation Loss: 70.32249557845978\n",
      "Epoch num: 12, Train Loss: 150.43459731574583\n",
      "Entering epoch: 13, batch number 0!\n",
      "Entering epoch: 13, batch number 1!\n",
      "Entering epoch: 13, batch number 2!\n",
      "Entering epoch: 13, batch number 3!\n",
      "Entering epoch: 13, batch number 4!\n",
      "old learn rate: 0.0009686604360233728, new learn rate: 0.0009635335073687376\n",
      ".\n",
      "Batch 0, input_sentence: <sos> we understand . <eos> translated sentence: .\n"
     ]
    },
    {
     "name": "stderr",
     "output_type": "stream",
     "text": [
      "\r",
      "  0%|          | 14/5000 [08:33<54:14:04, 39.16s/it]"
     ]
    },
    {
     "name": "stdout",
     "output_type": "stream",
     "text": [
      "Epoch num: 13, Train Loss: 185.54123300668863, Validation Loss: 70.1659966134935\n",
      "Epoch num: 13, Train Loss: 185.54123300668863\n",
      "Entering epoch: 14, batch number 0!\n",
      "Entering epoch: 14, batch number 1!\n",
      "Entering epoch: 14, batch number 2!\n",
      "Entering epoch: 14, batch number 3!\n",
      "Entering epoch: 14, batch number 4!\n",
      "old learn rate: 0.0009635335073687376, new learn rate: 0.0009580425426254619\n",
      ".\n",
      "Batch 0, input_sentence: <sos> we understand . <eos> translated sentence: .\n"
     ]
    },
    {
     "name": "stderr",
     "output_type": "stream",
     "text": [
      "\r",
      "  0%|          | 15/5000 [09:13<54:42:32, 39.51s/it]"
     ]
    },
    {
     "name": "stdout",
     "output_type": "stream",
     "text": [
      "Epoch num: 14, Train Loss: 159.58383710680224, Validation Loss: 69.98703836403199\n",
      "Epoch num: 14, Train Loss: 159.58383710680224\n",
      "Entering epoch: 15, batch number 0!\n",
      "Entering epoch: 15, batch number 1!\n",
      "Entering epoch: 15, batch number 2!\n",
      "Entering epoch: 15, batch number 3!\n",
      "Entering epoch: 15, batch number 4!\n",
      "old learn rate: 0.0009580425426254619, new learn rate: 0.0009521940857112641\n",
      ".\n",
      "Batch 0, input_sentence: <sos> we understand . <eos> translated sentence: .\n"
     ]
    },
    {
     "name": "stderr",
     "output_type": "stream",
     "text": [
      "\r",
      "  0%|          | 16/5000 [09:55<55:39:06, 40.20s/it]"
     ]
    },
    {
     "name": "stdout",
     "output_type": "stream",
     "text": [
      "Epoch num: 15, Train Loss: 153.1023459521581, Validation Loss: 69.7694683119187\n",
      "Epoch num: 15, Train Loss: 153.1023459521581\n",
      "Entering epoch: 16, batch number 0!\n",
      "Entering epoch: 16, batch number 1!\n",
      "Entering epoch: 16, batch number 2!\n",
      "Entering epoch: 16, batch number 3!\n",
      "Entering epoch: 16, batch number 4!\n",
      "old learn rate: 0.0009521940857112641, new learn rate: 0.0009459950783368485\n",
      ".\n",
      "Batch 0, input_sentence: <sos> we understand . <eos> translated sentence: .\n"
     ]
    },
    {
     "name": "stderr",
     "output_type": "stream",
     "text": [
      "\r",
      "  0%|          | 17/5000 [10:58<64:53:50, 46.89s/it]"
     ]
    },
    {
     "name": "stdout",
     "output_type": "stream",
     "text": [
      "Epoch num: 16, Train Loss: 244.92135289182661, Validation Loss: 69.52676090839704\n",
      "Epoch num: 16, Train Loss: 244.92135289182661\n",
      "Entering epoch: 17, batch number 0!\n",
      "Entering epoch: 17, batch number 1!\n",
      "Entering epoch: 17, batch number 2!\n",
      "Entering epoch: 17, batch number 3!\n",
      "Entering epoch: 17, batch number 4!\n",
      "old learn rate: 0.0009459950783368485, new learn rate: 0.0009394528462809807\n",
      ".\n",
      "Batch 0, input_sentence: <sos> we understand . <eos> translated sentence: .\n"
     ]
    },
    {
     "name": "stderr",
     "output_type": "stream",
     "text": [
      "\r",
      "  0%|          | 18/5000 [11:58<70:38:24, 51.04s/it]"
     ]
    },
    {
     "name": "stdout",
     "output_type": "stream",
     "text": [
      "Epoch num: 17, Train Loss: 182.48852861661112, Validation Loss: 69.24643333916262\n",
      "Epoch num: 17, Train Loss: 182.48852861661112\n",
      "Entering epoch: 18, batch number 0!\n",
      "Entering epoch: 18, batch number 1!\n",
      "Entering epoch: 18, batch number 2!\n",
      "Entering epoch: 18, batch number 3!\n",
      "Entering epoch: 18, batch number 4!\n",
      "old learn rate: 0.0009394528462809807, new learn rate: 0.0009325750849709613\n",
      ".\n",
      "Batch 0, input_sentence: <sos> we understand . <eos> translated sentence: .\n"
     ]
    },
    {
     "name": "stderr",
     "output_type": "stream",
     "text": [
      "\r",
      "  0%|          | 19/5000 [12:59<74:40:56, 53.98s/it]"
     ]
    },
    {
     "name": "stdout",
     "output_type": "stream",
     "text": [
      "Epoch num: 18, Train Loss: 153.8507879730723, Validation Loss: 68.85555847874868\n",
      "Epoch num: 18, Train Loss: 153.8507879730723\n",
      "Entering epoch: 19, batch number 0!\n",
      "Entering epoch: 19, batch number 1!\n",
      "Entering epoch: 19, batch number 2!\n",
      "Entering epoch: 19, batch number 3!\n",
      "Entering epoch: 19, batch number 4!\n",
      "old learn rate: 0.0009325750849709613, new learn rate: 0.0009253698444082094\n",
      ".\n",
      "Batch 0, input_sentence: <sos> we understand . <eos> translated sentence: .\n"
     ]
    },
    {
     "name": "stderr",
     "output_type": "stream",
     "text": [
      "\r",
      "  0%|          | 20/5000 [14:01<77:40:01, 56.14s/it]"
     ]
    },
    {
     "name": "stdout",
     "output_type": "stream",
     "text": [
      "Epoch num: 19, Train Loss: 153.83188542997004, Validation Loss: 68.17583595108646\n",
      "Epoch num: 19, Train Loss: 153.83188542997004\n",
      "Entering epoch: 20, batch number 0!\n",
      "Entering epoch: 20, batch number 1!\n",
      "Entering epoch: 20, batch number 2!\n",
      "Entering epoch: 20, batch number 3!\n",
      "Entering epoch: 20, batch number 4!\n",
      "old learn rate: 0.0009253698444082094, new learn rate: 0.0009178455134802596\n",
      ".\n",
      "Batch 0, input_sentence: <sos> we understand . <eos> translated sentence: .\n"
     ]
    },
    {
     "name": "stderr",
     "output_type": "stream",
     "text": [
      "\r",
      "  0%|          | 21/5000 [15:03<80:26:58, 58.17s/it]"
     ]
    },
    {
     "name": "stdout",
     "output_type": "stream",
     "text": [
      "Epoch num: 20, Train Loss: 141.5388932126666, Validation Loss: 66.62431576369669\n",
      "Epoch num: 20, Train Loss: 141.5388932126666\n",
      "Entering epoch: 21, batch number 0!\n",
      "Entering epoch: 21, batch number 1!\n",
      "Entering epoch: 21, batch number 2!\n",
      "Entering epoch: 21, batch number 3!\n",
      "Entering epoch: 21, batch number 4!\n",
      "old learn rate: 0.0009178455134802596, new learn rate: 0.0009100108037019332\n",
      ".\n",
      "Batch 0, input_sentence: <sos> we understand . <eos> translated sentence: .\n"
     ]
    },
    {
     "name": "stderr",
     "output_type": "stream",
     "text": [
      "\r",
      "  0%|          | 22/5000 [16:03<80:59:51, 58.58s/it]"
     ]
    },
    {
     "name": "stdout",
     "output_type": "stream",
     "text": [
      "Epoch num: 21, Train Loss: 143.08818794022955, Validation Loss: 60.437788670764206\n",
      "Epoch num: 21, Train Loss: 143.08818794022955\n",
      "Entering epoch: 22, batch number 0!\n",
      "Entering epoch: 22, batch number 1!\n",
      "Entering epoch: 22, batch number 2!\n",
      "Entering epoch: 22, batch number 3!\n",
      "Entering epoch: 22, batch number 4!\n",
      "old learn rate: 0.0009100108037019332, new learn rate: 0.0009018747324297416\n",
      "<sos><sos><sos><sos><sos><sos><sos><sos><sos><sos><sos><sos><sos><sos><sos><sos><sos><sos><sos><sos>\n",
      "Batch 0, input_sentence: <sos> we understand . <eos> translated sentence: <sos><sos><sos><sos><sos><sos><sos><sos><sos><sos><sos><sos><sos><sos><sos><sos><sos><sos><sos><sos>\n"
     ]
    },
    {
     "name": "stderr",
     "output_type": "stream",
     "text": [
      "\r",
      "  0%|          | 23/5000 [17:05<82:21:03, 59.57s/it]"
     ]
    },
    {
     "name": "stdout",
     "output_type": "stream",
     "text": [
      "Epoch num: 22, Train Loss: 201.01521893883785, Validation Loss: 86.02327827648836\n",
      "Epoch num: 22, Train Loss: 201.01521893883785\n",
      "Entering epoch: 23, batch number 0!\n",
      "Entering epoch: 23, batch number 1!\n",
      "Entering epoch: 23, batch number 2!\n",
      "Entering epoch: 23, batch number 3!\n",
      "Entering epoch: 23, batch number 4!\n",
      "old learn rate: 0.0009018747324297416, new learn rate: 0.0008934466055947356\n",
      "<pad><pad><pad><pad><pad><pad><pad><pad><pad><pad><pad><pad><pad><pad><pad><pad><pad><pad><pad><pad>\n",
      "Batch 0, input_sentence: <sos> we understand . <eos> translated sentence: <pad><pad><pad><pad><pad><pad><pad><pad><pad><pad><pad><pad><pad><pad><pad><pad><pad><pad><pad><pad>\n"
     ]
    },
    {
     "name": "stderr",
     "output_type": "stream",
     "text": [
      "\r",
      "  0%|          | 24/5000 [18:10<84:43:24, 61.30s/it]"
     ]
    },
    {
     "name": "stdout",
     "output_type": "stream",
     "text": [
      "Epoch num: 23, Train Loss: 215.7592911633619, Validation Loss: 81.51753191687011\n",
      "Epoch num: 23, Train Loss: 215.7592911633619\n",
      "Entering epoch: 24, batch number 0!\n",
      "Entering epoch: 24, batch number 1!\n",
      "Entering epoch: 24, batch number 2!\n",
      "Entering epoch: 24, batch number 3!\n",
      "Entering epoch: 24, batch number 4!\n",
      "old learn rate: 0.0008934466055947356, new learn rate: 0.0008847360000000004\n",
      "<pad><pad><pad><pad><pad><pad><pad><pad><pad><pad><pad><pad><pad><pad><pad><pad><pad><pad><pad><pad>\n",
      "Batch 0, input_sentence: <sos> we understand . <eos> translated sentence: <pad><pad><pad><pad><pad><pad><pad><pad><pad><pad><pad><pad><pad><pad><pad><pad><pad><pad><pad><pad>\n"
     ]
    },
    {
     "name": "stderr",
     "output_type": "stream",
     "text": [
      "\r",
      "  0%|          | 25/5000 [19:14<85:52:01, 62.13s/it]"
     ]
    },
    {
     "name": "stdout",
     "output_type": "stream",
     "text": [
      "Epoch num: 24, Train Loss: 238.45134849654144, Validation Loss: 104.04445392060161\n",
      "Epoch num: 24, Train Loss: 238.45134849654144\n",
      "Entering epoch: 25, batch number 0!\n",
      "Entering epoch: 25, batch number 1!\n",
      "Entering epoch: 25, batch number 2!\n",
      "Entering epoch: 25, batch number 3!\n",
      "Entering epoch: 25, batch number 4!\n",
      "old learn rate: 0.0008847360000000004, new learn rate: 0.0008757527452298361\n",
      "<pad><pad><pad><pad><pad><pad><pad><pad><pad><pad><pad><pad><pad><pad><pad><pad><pad><pad><pad><pad>\n",
      "Batch 0, input_sentence: <sos> we understand . <eos> translated sentence: <pad><pad><pad><pad><pad><pad><pad><pad><pad><pad><pad><pad><pad><pad><pad><pad><pad><pad><pad><pad>\n"
     ]
    },
    {
     "name": "stderr",
     "output_type": "stream",
     "text": [
      "\r",
      "  1%|          | 26/5000 [20:18<86:19:47, 62.48s/it]"
     ]
    },
    {
     "name": "stdout",
     "output_type": "stream",
     "text": [
      "Epoch num: 25, Train Loss: 246.6616891249019, Validation Loss: 106.29714612097476\n",
      "Epoch num: 25, Train Loss: 246.6616891249019\n",
      "Entering epoch: 26, batch number 0!\n",
      "Entering epoch: 26, batch number 1!\n",
      "Entering epoch: 26, batch number 2!\n",
      "Entering epoch: 26, batch number 3!\n"
     ]
    },
    {
     "name": "stderr",
     "output_type": "stream",
     "text": [
      "/Users/khaira/Documents/NeuralMachineTranslation/model/RNN_cell.py:194: RuntimeWarning: overflow encountered in add\n",
      "  dWax += dWax_t\n"
     ]
    },
    {
     "name": "stdout",
     "output_type": "stream",
     "text": [
      "Entering epoch: 26, batch number 4!\n",
      "old learn rate: 0.0008757527452298361, new learn rate: 0.0008665069052183343\n",
      "cansar\n",
      "Batch 0, input_sentence: <sos> we understand . <eos> translated sentence: cansar\n"
     ]
    },
    {
     "name": "stderr",
     "output_type": "stream",
     "text": [
      "\r",
      "  1%|          | 27/5000 [21:21<86:39:03, 62.73s/it]"
     ]
    },
    {
     "name": "stdout",
     "output_type": "stream",
     "text": [
      "Epoch num: 26, Train Loss: 236.4579457660825, Validation Loss: nan\n",
      "Epoch num: 26, Train Loss: 236.4579457660825\n",
      "Entering epoch: 27, batch number 0!\n",
      "Entering epoch: 27, batch number 1!\n",
      "Entering epoch: 27, batch number 2!\n",
      "Entering epoch: 27, batch number 3!\n",
      "Entering epoch: 27, batch number 4!\n",
      "old learn rate: 0.0008665069052183343, new learn rate: 0.0008570087595255747\n",
      "cansar\n",
      "Batch 0, input_sentence: <sos> we understand . <eos> translated sentence: cansar\n"
     ]
    },
    {
     "name": "stderr",
     "output_type": "stream",
     "text": [
      "\r",
      "  1%|          | 28/5000 [22:18<84:15:52, 61.01s/it]"
     ]
    },
    {
     "name": "stdout",
     "output_type": "stream",
     "text": [
      "Epoch num: 27, Train Loss: nan, Validation Loss: nan\n",
      "Epoch num: 27, Train Loss: nan\n",
      "Entering epoch: 28, batch number 0!\n",
      "Entering epoch: 28, batch number 1!\n",
      "Entering epoch: 28, batch number 2!\n",
      "Entering epoch: 28, batch number 3!\n",
      "Entering epoch: 28, batch number 4!\n",
      "old learn rate: 0.0008570087595255747, new learn rate: 0.0008472687843700181\n",
      "cansar\n",
      "Batch 0, input_sentence: <sos> we understand . <eos> translated sentence: cansar\n"
     ]
    },
    {
     "name": "stderr",
     "output_type": "stream",
     "text": [
      "\r",
      "  1%|          | 29/5000 [23:25<86:44:31, 62.82s/it]"
     ]
    },
    {
     "name": "stdout",
     "output_type": "stream",
     "text": [
      "Epoch num: 28, Train Loss: nan, Validation Loss: nan\n",
      "Epoch num: 28, Train Loss: nan\n",
      "Entering epoch: 29, batch number 0!\n",
      "Entering epoch: 29, batch number 1!\n",
      "Entering epoch: 29, batch number 2!\n",
      "Entering epoch: 29, batch number 3!\n",
      "Entering epoch: 29, batch number 4!\n",
      "old learn rate: 0.0008472687843700181, new learn rate: 0.0008372976334658598\n",
      "cansar\n",
      "Batch 0, input_sentence: <sos> we understand . <eos> translated sentence: cansar\n"
     ]
    },
    {
     "name": "stderr",
     "output_type": "stream",
     "text": [
      "\r",
      "  1%|          | 30/5000 [24:29<87:16:00, 63.21s/it]"
     ]
    },
    {
     "name": "stdout",
     "output_type": "stream",
     "text": [
      "Epoch num: 29, Train Loss: nan, Validation Loss: nan\n",
      "Epoch num: 29, Train Loss: nan\n",
      "Entering epoch: 30, batch number 0!\n",
      "Entering epoch: 30, batch number 1!\n",
      "Entering epoch: 30, batch number 2!\n",
      "Entering epoch: 30, batch number 3!\n",
      "Entering epoch: 30, batch number 4!\n",
      "old learn rate: 0.0008372976334658598, new learn rate: 0.0008271061187141385\n",
      "cansar\n",
      "Batch 0, input_sentence: <sos> we understand . <eos> translated sentence: cansar\n"
     ]
    },
    {
     "name": "stderr",
     "output_type": "stream",
     "text": [
      "\r",
      "  1%|          | 31/5000 [25:29<85:47:38, 62.16s/it]"
     ]
    },
    {
     "name": "stdout",
     "output_type": "stream",
     "text": [
      "Epoch num: 30, Train Loss: nan, Validation Loss: nan\n",
      "Epoch num: 30, Train Loss: nan\n",
      "Entering epoch: 31, batch number 0!\n",
      "Entering epoch: 31, batch number 1!\n",
      "Entering epoch: 31, batch number 2!\n",
      "Entering epoch: 31, batch number 3!\n",
      "Entering epoch: 31, batch number 4!\n",
      "old learn rate: 0.0008271061187141385, new learn rate: 0.0008167051907962666\n",
      "cansar\n",
      "Batch 0, input_sentence: <sos> we understand . <eos> translated sentence: cansar\n"
     ]
    },
    {
     "name": "stderr",
     "output_type": "stream",
     "text": [
      "\r",
      "  1%|          | 32/5000 [26:28<84:44:33, 61.41s/it]"
     ]
    },
    {
     "name": "stdout",
     "output_type": "stream",
     "text": [
      "Epoch num: 31, Train Loss: nan, Validation Loss: nan\n",
      "Epoch num: 31, Train Loss: nan\n",
      "Entering epoch: 32, batch number 0!\n",
      "Entering epoch: 32, batch number 1!\n",
      "Entering epoch: 32, batch number 2!\n",
      "Entering epoch: 32, batch number 3!\n",
      "Entering epoch: 32, batch number 4!\n",
      "old learn rate: 0.0008167051907962666, new learn rate: 0.0008061059197183605\n",
      "cansar\n",
      "Batch 0, input_sentence: <sos> we understand . <eos> translated sentence: cansar\n"
     ]
    },
    {
     "name": "stderr",
     "output_type": "stream",
     "text": [
      "\r",
      "  1%|          | 33/5000 [27:32<85:33:16, 62.01s/it]"
     ]
    },
    {
     "name": "stdout",
     "output_type": "stream",
     "text": [
      "Epoch num: 32, Train Loss: nan, Validation Loss: nan\n",
      "Epoch num: 32, Train Loss: nan\n",
      "Entering epoch: 33, batch number 0!\n",
      "Entering epoch: 33, batch number 1!\n",
      "Entering epoch: 33, batch number 2!\n",
      "Entering epoch: 33, batch number 3!\n",
      "Entering epoch: 33, batch number 4!\n",
      "old learn rate: 0.0008061059197183605, new learn rate: 0.0007953194753543122\n",
      "cansar\n",
      "Batch 0, input_sentence: <sos> we understand . <eos> translated sentence: cansar\n"
     ]
    },
    {
     "name": "stderr",
     "output_type": "stream",
     "text": [
      "\r",
      "  1%|          | 34/5000 [28:37<86:51:46, 62.97s/it]"
     ]
    },
    {
     "name": "stdout",
     "output_type": "stream",
     "text": [
      "Epoch num: 33, Train Loss: nan, Validation Loss: nan\n",
      "Epoch num: 33, Train Loss: nan\n",
      "Entering epoch: 34, batch number 0!\n",
      "Entering epoch: 34, batch number 1!\n",
      "Entering epoch: 34, batch number 2!\n",
      "Entering epoch: 34, batch number 3!\n",
      "Entering epoch: 34, batch number 4!\n",
      "old learn rate: 0.0007953194753543122, new learn rate: 0.0007843571080349531\n",
      "cansar\n",
      "Batch 0, input_sentence: <sos> we understand . <eos> translated sentence: cansar\n"
     ]
    },
    {
     "name": "stderr",
     "output_type": "stream",
     "text": [
      "\r",
      "  1%|          | 35/5000 [29:52<92:00:58, 66.72s/it]"
     ]
    },
    {
     "name": "stdout",
     "output_type": "stream",
     "text": [
      "Epoch num: 34, Train Loss: nan, Validation Loss: nan\n",
      "Epoch num: 34, Train Loss: nan\n",
      "Entering epoch: 35, batch number 0!\n",
      "Entering epoch: 35, batch number 1!\n",
      "Entering epoch: 35, batch number 2!\n",
      "Entering epoch: 35, batch number 3!\n"
     ]
    }
   ],
   "source": [
    "# Works fine but have to train for a really long time \n",
    "seq2seq_obj.train( num_epochs=5000, valid_loader=val_iter, data_loader = train_iter, batch_size = 32, src_name = eng, trg_name=spa, \n",
    "                  padding_idx=spa_field.vocab.stoi['<pad>'], learning_schedule=lr_schedule, _testing=5, learn_rate=0.001)\n"
   ]
  },
  {
   "cell_type": "code",
   "execution_count": null,
   "metadata": {},
   "outputs": [],
   "source": []
  }
 ],
 "metadata": {
  "kernelspec": {
   "display_name": "my-virtualenv-name",
   "language": "python",
   "name": "my-virtualenv-name"
  },
  "language_info": {
   "codemirror_mode": {
    "name": "ipython",
    "version": 3
   },
   "file_extension": ".py",
   "mimetype": "text/x-python",
   "name": "python",
   "nbconvert_exporter": "python",
   "pygments_lexer": "ipython3",
   "version": "3.8.3"
  }
 },
 "nbformat": 4,
 "nbformat_minor": 4
}