{
 "cells": [
  {
   "cell_type": "code",
   "execution_count": 1,
   "metadata": {},
   "outputs": [],
   "source": [
    "import sys\n",
    "import os\n",
    "import pandas as pd\n",
    "import string\n",
    "import numpy as np\n",
    "import re\n",
    "import spacy\n",
    "import es_core_news_sm\n",
    "from torchtext.data import Field\n",
    "from torchtext.data import TabularDataset\n",
    "from torchtext.data import BucketIterator\n",
    "from sklearn.model_selection import train_test_split\n",
    "import torch\n",
    "from model.Utils import GradientDescentMomentum\n",
    "from model.Utils import exponentialDecaySchedule\n",
    "from model.Seq2Seq_rnn import Seq2Seq_rnn"
   ]
  },
  {
   "cell_type": "code",
   "execution_count": 2,
   "metadata": {},
   "outputs": [],
   "source": [
    "data_path = os.path.join(sys.path[0], 'data/spa.txt')\n",
    "lines= pd.read_table(data_path,  names =['eng', 'spa', 'comments'])\n",
    "train,valid = train_test_split(lines, test_size=0.1)"
   ]
  },
  {
   "cell_type": "code",
   "execution_count": 3,
   "metadata": {},
   "outputs": [],
   "source": [
    "train.to_csv('train.csv')\n",
    "valid.to_csv('valid.csv')"
   ]
  },
  {
   "cell_type": "code",
   "execution_count": 4,
   "metadata": {},
   "outputs": [
    {
     "name": "stderr",
     "output_type": "stream",
     "text": [
      "/Users/khaira/Documents/NeuralMachineTranslation/venv/lib/python3.8/site-packages/torchtext/data/field.py:150: UserWarning: Field class will be retired in the 0.8.0 release and moved to torchtext.legacy. Please see 0.7.0 release notes for further information.\n",
      "  warnings.warn('{} class will be retired in the 0.8.0 release and moved to torchtext.legacy. Please see 0.7.0 release notes for further information.'.format(self.__class__.__name__), UserWarning)\n"
     ]
    }
   ],
   "source": [
    "# use spacy for tokenization - provides good support for tokenization in languages other than english\n",
    "eng_field = Field(tokenize=\"spacy\",\n",
    "                 tokenizer_language=\"en\",\n",
    "                 init_token=\"<sos>\",\n",
    "                 eos_token = \"<eos>\",\n",
    "                 lower = True)\n",
    "\n",
    "spa_field = Field(tokenize=\"spacy\",\n",
    "                 tokenizer_language=\"es\",\n",
    "                 init_token=\"<sos>\",\n",
    "                 eos_token = \"<eos>\",\n",
    "                 lower=True)"
   ]
  },
  {
   "cell_type": "code",
   "execution_count": 5,
   "metadata": {},
   "outputs": [],
   "source": [
    "tabular_data_fields = [(\"id\", None), ('eng', eng_field), ('spa', spa_field),('comments',None)]"
   ]
  },
  {
   "cell_type": "code",
   "execution_count": 6,
   "metadata": {},
   "outputs": [
    {
     "name": "stderr",
     "output_type": "stream",
     "text": [
      "/Users/khaira/Documents/NeuralMachineTranslation/venv/lib/python3.8/site-packages/torchtext/data/example.py:68: UserWarning: Example class will be retired in the 0.8.0 release and moved to torchtext.legacy. Please see 0.7.0 release notes for further information.\n",
      "  warnings.warn('Example class will be retired in the 0.8.0 release and moved to torchtext.legacy. Please see 0.7.0 release notes for further information.', UserWarning)\n",
      "/Users/khaira/Documents/NeuralMachineTranslation/venv/lib/python3.8/site-packages/torchtext/data/example.py:78: UserWarning: Example class will be retired in the 0.8.0 release and moved to torchtext.legacy. Please see 0.7.0 release notes for further information.\n",
      "  warnings.warn('Example class will be retired in the 0.8.0 release and moved to torchtext.legacy. Please see 0.7.0 release notes for further information.', UserWarning)\n"
     ]
    }
   ],
   "source": [
    "train, valid = TabularDataset.splits(\n",
    "\n",
    "path = './',\n",
    "train='train.csv',\n",
    "validation='valid.csv',\n",
    "format = 'csv',\n",
    "skip_header = True,\n",
    "fields = tabular_data_fields)"
   ]
  },
  {
   "cell_type": "code",
   "execution_count": 7,
   "metadata": {},
   "outputs": [],
   "source": [
    "eng_field.build_vocab(train, valid)"
   ]
  },
  {
   "cell_type": "code",
   "execution_count": 8,
   "metadata": {},
   "outputs": [],
   "source": [
    "spa_field.build_vocab(train, valid)"
   ]
  },
  {
   "cell_type": "code",
   "execution_count": 15,
   "metadata": {},
   "outputs": [
    {
     "name": "stderr",
     "output_type": "stream",
     "text": [
      "/Users/khaira/Documents/NeuralMachineTranslation/venv/lib/python3.8/site-packages/torchtext/data/iterator.py:48: UserWarning: BucketIterator class will be retired in the 0.8.0 release and moved to torchtext.legacy. Please see 0.7.0 release notes for further information.\n",
      "  warnings.warn('{} class will be retired in the 0.8.0 release and moved to torchtext.legacy. Please see 0.7.0 release notes for further information.'.format(self.__class__.__name__), UserWarning)\n"
     ]
    }
   ],
   "source": [
    "train_iter, val_iter = BucketIterator.splits((train, valid),\n",
    "batch_size = 32, sort_key = lambda x: len(x.eng))"
   ]
  },
  {
   "cell_type": "code",
   "execution_count": 18,
   "metadata": {},
   "outputs": [],
   "source": [
    "def confirm_mapping(src, trg):\n",
    "    src = np.copy(src)\n",
    "    vfunc = np.vectorize(lambda x: eng_field.vocab.itos[x])\n",
    "    saved_src = vfunc(src)\n",
    "    \n",
    "    trg = np.copy(trg)\n",
    "    xfunc = np.vectorize(lambda x: spa_field.vocab.itos[x])\n",
    "    saved_trg = xfunc(trg)\n",
    "    \n",
    "    return saved_src, saved_trg"
   ]
  },
  {
   "cell_type": "code",
   "execution_count": 19,
   "metadata": {},
   "outputs": [],
   "source": [
    "spa = \"spa\"\n",
    "eng= \"eng\""
   ]
  },
  {
   "cell_type": "code",
   "execution_count": 20,
   "metadata": {
    "tags": []
   },
   "outputs": [
    {
     "name": "stdout",
     "output_type": "stream",
     "text": [
      "<class 'torch.Tensor'>\n",
      "torch.Size([5, 32])\n",
      "torch.Size([9, 32])\n"
     ]
    }
   ],
   "source": [
    "for i, batch in enumerate(val_iter):\n",
    "    print(type(batch.eng))\n",
    "    saved = batch.spa.numpy()\n",
    "    if (type(batch.eng) == torch.Tensor):\n",
    "        src2 = batch.eng[:,0].numpy()\n",
    "        trg2 = batch.spa[:,0].numpy()\n",
    "    print(batch.eng.shape)\n",
    "    print(batch.spa.shape)\n",
    "    break"
   ]
  },
  {
   "cell_type": "code",
   "execution_count": 25,
   "metadata": {},
   "outputs": [],
   "source": [
    "seq2seq_obj = Seq2Seq_rnn(eos_int=spa_field.vocab.stoi['<eos>'], sos_int=spa_field.vocab.stoi['<sos>']\n",
    "                          , vocab_size_src = len(eng_field.vocab), vocab_size_trg=len(spa_field.vocab),\n",
    "                          dim_embed_src=1012, dim_embed_trg =1012, src_map_i2c = eng_field.vocab.itos,\n",
    "                          trg_map_i2c = spa_field.vocab.itos, num_neurons_encoder = 1012, num_neurons_decoder = 1012,\n",
    "                          optim = GradientDescentMomentum)"
   ]
  },
  {
   "cell_type": "code",
   "execution_count": 35,
   "metadata": {},
   "outputs": [],
   "source": [
    "eng = \"eng\"\n",
    "spa = \"spa\"\n",
    "lr_schedule = exponentialDecaySchedule(0.96, 100)"
   ]
  },
  {
   "cell_type": "code",
   "execution_count": 34,
   "metadata": {},
   "outputs": [],
   "source": [
    "# Works fine but have to train for a really long time \n",
    "seq2seq_obj.train( num_epochs=1000, valid_loader=val_iter, data_loader = train_iter, batch_size = 32, src_name = eng, trg_name=spa, \n",
    "                  padding_idx=spa_field.vocab.stoi['<pad>'], learning_schedule=lr_schedule, _testing=5, learn_rate=0.001)\n",
    "\n"
   ]
  }
 ],
 "metadata": {
  "kernelspec": {
   "display_name": "my-virtualenv-name",
   "language": "python",
   "name": "my-virtualenv-name"
  },
  "language_info": {
   "codemirror_mode": {
    "name": "ipython",
    "version": 3
   },
   "file_extension": ".py",
   "mimetype": "text/x-python",
   "name": "python",
   "nbconvert_exporter": "python",
   "pygments_lexer": "ipython3",
   "version": "3.8.3"
  }
 },
 "nbformat": 4,
 "nbformat_minor": 4
}
