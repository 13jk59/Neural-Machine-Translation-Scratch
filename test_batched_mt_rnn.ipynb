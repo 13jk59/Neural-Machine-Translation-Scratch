{
 "cells": [
  {
   "cell_type": "code",
   "execution_count": 2,
   "metadata": {},
   "outputs": [],
   "source": [
    "import sys\n",
    "import os\n",
    "import pandas as pd\n",
    "import string\n",
    "import numpy as np\n",
    "import re\n",
    "import spacy\n",
    "import es_core_news_sm\n",
    "from torchtext.data import Field\n",
    "from torchtext.data import TabularDataset\n",
    "from torchtext.data import BucketIterator\n",
    "from sklearn.model_selection import train_test_split\n",
    "import torch"
   ]
  },
  {
   "cell_type": "code",
   "execution_count": 3,
   "metadata": {},
   "outputs": [],
   "source": [
    "data_path = os.path.join(sys.path[0], 'data/spa.txt')\n",
    "lines= pd.read_table(data_path,  names =['eng', 'spa', 'comments'])\n",
    "train,valid = train_test_split(lines, test_size=0.1)"
   ]
  },
  {
   "cell_type": "code",
   "execution_count": 4,
   "metadata": {},
   "outputs": [],
   "source": [
    "train.to_csv('train.csv')\n",
    "valid.to_csv('valid.csv')"
   ]
  },
  {
   "cell_type": "code",
   "execution_count": 5,
   "metadata": {},
   "outputs": [],
   "source": [
    "# use spacy for tokenization - provides good support for tokenization in languages other than english\n",
    "eng_field = Field(tokenize=\"spacy\",\n",
    "                 tokenizer_language=\"en\",\n",
    "                 init_token=\"<sos>\",\n",
    "                 eos_token = \"<eos>\",\n",
    "                 lower = True)\n",
    "\n",
    "spa_field = Field(tokenize=\"spacy\",\n",
    "                 tokenizer_language=\"es\",\n",
    "                 init_token=\"<sos>\",\n",
    "                 eos_token = \"<eos>\",\n",
    "                 lower=True)"
   ]
  },
  {
   "cell_type": "code",
   "execution_count": 6,
   "metadata": {},
   "outputs": [],
   "source": [
    "tabular_data_fields = [(\"id\", None), ('eng', eng_field), ('spa', spa_field),('comments',None)]"
   ]
  },
  {
   "cell_type": "code",
   "execution_count": 7,
   "metadata": {},
   "outputs": [],
   "source": [
    "train, valid = TabularDataset.splits(\n",
    "\n",
    "path = './',\n",
    "train='train.csv',\n",
    "validation='valid.csv',\n",
    "format = 'csv',\n",
    "skip_header = True,\n",
    "fields = tabular_data_fields)"
   ]
  },
  {
   "cell_type": "code",
   "execution_count": 8,
   "metadata": {},
   "outputs": [
    {
     "output_type": "execute_result",
     "data": {
      "text/plain": "{'eng': ['what', 'are', 'they', 'complaining', 'about', '?'],\n 'spa': ['¿', 'de', 'qué', 'se', 'quejan', '?']}"
     },
     "metadata": {},
     "execution_count": 8
    }
   ],
   "source": [
    "valid[122].__dict__"
   ]
  },
  {
   "cell_type": "code",
   "execution_count": 74,
   "metadata": {},
   "outputs": [],
   "source": [
    "eng_field.build_vocab(train, valid)"
   ]
  },
  {
   "cell_type": "code",
   "execution_count": 75,
   "metadata": {},
   "outputs": [],
   "source": [
    "spa_field.build_vocab(train, valid)"
   ]
  },
  {
   "cell_type": "code",
   "execution_count": 78,
   "metadata": {},
   "outputs": [
    {
     "output_type": "execute_result",
     "data": {
      "text/plain": "13365"
     },
     "metadata": {},
     "execution_count": 78
    }
   ],
   "source": [
    "len(spa_field.vocab)\n",
    "len(eng_field.vocab)"
   ]
  },
  {
   "cell_type": "code",
   "execution_count": 114,
   "metadata": {},
   "outputs": [
    {
     "output_type": "execute_result",
     "data": {
      "text/plain": "0"
     },
     "metadata": {},
     "execution_count": 114
    }
   ],
   "source": [
    "spa_field.vocab.stoi[' ']"
   ]
  },
  {
   "cell_type": "code",
   "execution_count": 12,
   "metadata": {},
   "outputs": [
    {
     "output_type": "execute_result",
     "data": {
      "text/plain": "{'eng': ['please',\n  'put',\n  'a',\n  'lot',\n  'of',\n  'cream',\n  'in',\n  'my',\n  'coffee',\n  '.'],\n 'spa': ['ponele',\n  'mucha',\n  'crema',\n  'a',\n  'mi',\n  'café',\n  ',',\n  'por',\n  'favor',\n  '.']}"
     },
     "metadata": {},
     "execution_count": 12
    }
   ],
   "source": [
    "train[0].__dict__"
   ]
  },
  {
   "cell_type": "code",
   "execution_count": 13,
   "metadata": {},
   "outputs": [],
   "source": [
    "train_iter, val_iter = BucketIterator.splits((train, valid),\n",
    "batch_size = 32, sort_key = lambda x: len(x.eng))"
   ]
  },
  {
   "cell_type": "code",
   "execution_count": 14,
   "metadata": {
    "tags": []
   },
   "outputs": [
    {
     "output_type": "stream",
     "name": "stdout",
     "text": "Help on Batch in module torchtext.data.batch object:\n\nclass Batch(builtins.object)\n |  Batch(data=None, dataset=None, device=None)\n |  \n |  Defines a batch of examples along with its Fields.\n |  \n |  Attributes:\n |      batch_size: Number of examples in the batch.\n |      dataset: A reference to the dataset object the examples come from\n |          (which itself contains the dataset's Field objects).\n |      train: Deprecated: this attribute is left for backwards compatibility,\n |          however it is UNUSED as of the merger with pytorch 0.4.\n |      input_fields: The names of the fields that are used as input for the model\n |      target_fields: The names of the fields that are used as targets during\n |                     model training\n |  \n |  Also stores the Variable for each column in the batch as an attribute.\n |  \n |  Methods defined here:\n |  \n |  __init__(self, data=None, dataset=None, device=None)\n |      Create a Batch from a list of examples.\n |  \n |  __iter__(self)\n |  \n |  __len__(self)\n |  \n |  __repr__(self)\n |      Return repr(self).\n |  \n |  __str__(self)\n |      Return str(self).\n |  \n |  ----------------------------------------------------------------------\n |  Class methods defined here:\n |  \n |  fromvars(dataset, batch_size, train=None, **kwargs) from builtins.type\n |      Create a Batch directly from a number of Variables.\n |  \n |  ----------------------------------------------------------------------\n |  Data descriptors defined here:\n |  \n |  __dict__\n |      dictionary for instance variables (if defined)\n |  \n |  __weakref__\n |      list of weak references to the object (if defined)\n\nNone\ntensor([[    2,     2,     2,     2,     2,     2,     2,     2,     2,     2,\n             2,     2,     2,     2,     2,     2,     2,     2,     2,     2,\n             2,     2,     2,     2,     2,     2,     2,     2,     2,     2,\n             2,     2],\n        [   16,     5,    87,     5,    81,    15,     9,     5,    45,     9,\n            23,    28,    62,     5,    72,    62,     5,     5,     9,     5,\n             8,    16,   247,   302,    49,     9,     9,     9,     9,    29,\n           345,   294],\n        [   17,    70,   356,   113,    57,   103,  7322,   148,   196,    80,\n             8,    54,    20,   109,     8,    20,    23,    23,    21,    40,\n            52,    21,    51,     7,     7,    21,    12,    51,   162,   307,\n          1756,    12],\n        [  654,    13,   180,    43,    85,   161,    32,     8,    22,   101,\n           229,    95,  1860,   784,    61,    53,    10,     7,    59,  9724,\n          1512,    41,    10,   211,     6,    32,    59,    92,    32,    20,\n            24,  2345],\n        [  665,   674,    29,   105,    38,     7,    17,   334,     5,   460,\n          1899,    60,    62,    10,   400,  1318, 12942,    37,  1887,    25,\n             4,   868,   147,    56,   203,    17,  8319,    59,     7,   421,\n             4,    22],\n        [   42,    16,     5,   451,   102,    10,   527,     4,   132,     6,\n            36,   124,     6,  1237,    24,   558,   661,   118,    64,  1864,\n             3,   563,     7,     4,   734,   138,    22,   769,    49,    14,\n             3,     6],\n        [  577,    99,   109,   607,    11,  1661,     4,     3,     5,  6036,\n            77,   115,  1433,     4,    22, 10859,    63,   116,   416,     7,\n             1,    50,   136,     3,     4,   233,    12,     4,   224,     8,\n             1,   301],\n        [    4,     4,    79,    22,     3,   397,     3,     1,    21,    20,\n          1016,    60,   129,     3,     5,     4,     4,    83,     7,    35,\n             1,    61,    29,     1,     3,     4,    13,     3,     4,    39,\n             1,   175],\n        [    3,     3,     7,    87,     1,     4,     1,     1,   432,   503,\n            11,    28,    69,     1,    71,     3,     3,   755,   477,  1078,\n             1,  3896,    15,     1,     1,     3,    15,     1,     3,   102,\n             1,     6],\n        [    1,     1,   136,     4,     1,     3,     1,     1,     4,     4,\n             3,    46,     4,     1,    23,     1,     1,     4,   455,     4,\n             1,    16,   556,     1,     1,     1,    11,     1,     1,     7,\n             1,   543],\n        [    1,     1,     4,     3,     1,     1,     1,     1,     3,     3,\n             1,     4,     3,     1,    85,     1,     1,     3,    19,     3,\n             1,   175,     4,     1,     1,     1,     3,     1,     1,   190,\n             1,   110],\n        [    1,     1,     3,     1,     1,     1,     1,     1,     1,     1,\n             1,     3,     1,     1,     7,     1,     1,     1,     6,     1,\n             1,    41,     3,     1,     1,     1,     1,     1,     1,    11,\n             1,    11],\n        [    1,     1,     1,     1,     1,     1,     1,     1,     1,     1,\n             1,     1,     1,     1,    95,     1,     1,     1,   535,     1,\n             1,     4,     1,     1,     1,     1,     1,     1,     1,     3,\n             1,     3],\n        [    1,     1,     1,     1,     1,     1,     1,     1,     1,     1,\n             1,     1,     1,     1,     8,     1,     1,     1,     4,     1,\n             1,     3,     1,     1,     1,     1,     1,     1,     1,     1,\n             1,     1],\n        [    1,     1,     1,     1,     1,     1,     1,     1,     1,     1,\n             1,     1,     1,     1,     4,     1,     1,     1,     3,     1,\n             1,     1,     1,     1,     1,     1,     1,     1,     1,     1,\n             1,     1],\n        [    1,     1,     1,     1,     1,     1,     1,     1,     1,     1,\n             1,     1,     1,     1,     3,     1,     1,     1,     1,     1,\n             1,     1,     1,     1,     1,     1,     1,     1,     1,     1,\n             1,     1]])\n"
    }
   ],
   "source": [
    "for i, (batch) in enumerate(train_iter):\n",
    "    print(help(batch))\n",
    "    print(batch.eng)\n",
    "    break"
   ]
  },
  {
   "cell_type": "code",
   "execution_count": 15,
   "metadata": {},
   "outputs": [],
   "source": [
    "for i, batch in enumerate(train_iter):\n",
    "    src1 = batch.eng[:,0].numpy()\n",
    "    trg1 = batch.spa[:,0].numpy()\n",
    "    \n",
    "    break"
   ]
  },
  {
   "cell_type": "code",
   "execution_count": 16,
   "metadata": {},
   "outputs": [],
   "source": [
    "def confirm_mapping(src, trg):\n",
    "    src = np.copy(src)\n",
    "    vfunc = np.vectorize(lambda x: eng_field.vocab.itos[x])\n",
    "    saved_src = vfunc(src)\n",
    "    \n",
    "    trg = np.copy(trg)\n",
    "    xfunc = np.vectorize(lambda x: spa_field.vocab.itos[x])\n",
    "    saved_trg = xfunc(trg)\n",
    "    \n",
    "    return saved_src, saved_trg"
   ]
  },
  {
   "cell_type": "code",
   "execution_count": 59,
   "metadata": {
    "tags": []
   },
   "outputs": [
    {
     "output_type": "stream",
     "name": "stdout",
     "text": "<class 'torch.Tensor'>\ntorch.Size([5, 32])\ntorch.Size([8, 32])\n"
    }
   ],
   "source": [
    "for i, batch in enumerate(val_iter):\n",
    "    print(type(batch.eng))\n",
    "    saved = batch.spa.numpy()\n",
    "    if (type(batch.eng) == torch.Tensor):\n",
    "        src2 = batch.eng[:,0].numpy()\n",
    "        trg2 = batch.spa[:,0].numpy()\n",
    "    print(batch.eng.shape)\n",
    "    print(batch.spa.shape)\n",
    "    break"
   ]
  },
  {
   "cell_type": "code",
   "execution_count": 60,
   "metadata": {},
   "outputs": [],
   "source": [
    "saved = saved.T"
   ]
  },
  {
   "cell_type": "code",
   "execution_count": 64,
   "metadata": {},
   "outputs": [],
   "source": [
    "x_t = saved[:, :-1]\n",
    "y_t = saved[:,1:]"
   ]
  },
  {
   "cell_type": "code",
   "execution_count": 65,
   "metadata": {},
   "outputs": [
    {
     "output_type": "execute_result",
     "data": {
      "text/plain": "array([[    2,  3456,     4,     3,     1,     1,     1],\n       [    2,    17, 13706,     4,     3,     1,     1],\n       [    2,   101,    26,     5,   307,     4,     3],\n       [    2, 12116,    16,  1112,     4,     3,     1],\n       [    2,    80, 11935,     4,     3,     1,     1],\n       [    2,    65,   102,     5,   307,     4,     3],\n       [    2,   940,     4,     3,     1,     1,     1],\n       [    2,  4987,     8,   503,     4,     3,     1],\n       [    2,    12,    61,   158,    14,    55,    11],\n       [    2,   540,    74,   605,     4,     3,     1],\n       [    2,  3413,   206,     5,   173,   167,     4],\n       [    2,  2267,  2548,     4,     3,     1,     1],\n       [    2,  1667,     4,     3,     1,     1,     1],\n       [    2,   258,  1899,     4,     3,     1,     1],\n       [    2,  1812,    27,   513,     4,     3,     1],\n       [    2,    80,  6624,     4,     3,     1,     1],\n       [    2,    12,    95,  2430,    11,     3,     1],\n       [    2,   114,    18, 10839,  3079,     4,     3],\n       [    2,   501,   137,     4,     3,     1,     1],\n       [    2,  2467,  3795,     4,     3,     1,     1],\n       [    2,   442,     5,  3807,     4,     3,     1],\n       [    2,     9,    18, 24716,     4,     3,     1],\n       [    2,    12,    20,    29,    39,    11,     3],\n       [    2,  1031,   185,    77,     4,     3,     1],\n       [    2,  4180,    13, 12732,     4,     3,     1],\n       [    2,  2224,  1894,     4,     3,     1,     1],\n       [    2,   442,     5,  6735,     4,     3,     1],\n       [    2,    12,    95,    11,     3,     1,     1],\n       [    2,    88,   151,  1089,    87,     3,     1],\n       [    2,    88, 14532,    87,     3,     1,     1],\n       [    2,    88,   595,    87,     3,     1,     1],\n       [    2,    88,    38,  2301,    87,     3,     1]])"
     },
     "metadata": {},
     "execution_count": 65
    }
   ],
   "source": [
    "x_t"
   ]
  },
  {
   "cell_type": "code",
   "execution_count": 61,
   "metadata": {},
   "outputs": [
    {
     "output_type": "execute_result",
     "data": {
      "text/plain": "array([[    2,  3456,     4,     3,     1,     1,     1,     1],\n       [    2,    17, 13706,     4,     3,     1,     1,     1],\n       [    2,   101,    26,     5,   307,     4,     3,     1],\n       [    2, 12116,    16,  1112,     4,     3,     1,     1],\n       [    2,    80, 11935,     4,     3,     1,     1,     1],\n       [    2,    65,   102,     5,   307,     4,     3,     1],\n       [    2,   940,     4,     3,     1,     1,     1,     1],\n       [    2,  4987,     8,   503,     4,     3,     1,     1],\n       [    2,    12,    61,   158,    14,    55,    11,     3],\n       [    2,   540,    74,   605,     4,     3,     1,     1],\n       [    2,  3413,   206,     5,   173,   167,     4,     3],\n       [    2,  2267,  2548,     4,     3,     1,     1,     1],\n       [    2,  1667,     4,     3,     1,     1,     1,     1],\n       [    2,   258,  1899,     4,     3,     1,     1,     1],\n       [    2,  1812,    27,   513,     4,     3,     1,     1],\n       [    2,    80,  6624,     4,     3,     1,     1,     1],\n       [    2,    12,    95,  2430,    11,     3,     1,     1],\n       [    2,   114,    18, 10839,  3079,     4,     3,     1],\n       [    2,   501,   137,     4,     3,     1,     1,     1],\n       [    2,  2467,  3795,     4,     3,     1,     1,     1],\n       [    2,   442,     5,  3807,     4,     3,     1,     1],\n       [    2,     9,    18, 24716,     4,     3,     1,     1],\n       [    2,    12,    20,    29,    39,    11,     3,     1],\n       [    2,  1031,   185,    77,     4,     3,     1,     1],\n       [    2,  4180,    13, 12732,     4,     3,     1,     1],\n       [    2,  2224,  1894,     4,     3,     1,     1,     1],\n       [    2,   442,     5,  6735,     4,     3,     1,     1],\n       [    2,    12,    95,    11,     3,     1,     1,     1],\n       [    2,    88,   151,  1089,    87,     3,     1,     1],\n       [    2,    88, 14532,    87,     3,     1,     1,     1],\n       [    2,    88,   595,    87,     3,     1,     1,     1],\n       [    2,    88,    38,  2301,    87,     3,     1,     1]])"
     },
     "metadata": {},
     "execution_count": 61
    }
   ],
   "source": [
    "saved"
   ]
  },
  {
   "cell_type": "code",
   "execution_count": 66,
   "metadata": {},
   "outputs": [
    {
     "output_type": "execute_result",
     "data": {
      "text/plain": "array([[ 3456,     4,     3,     1,     1,     1,     1],\n       [   17, 13706,     4,     3,     1,     1,     1],\n       [  101,    26,     5,   307,     4,     3,     1],\n       [12116,    16,  1112,     4,     3,     1,     1],\n       [   80, 11935,     4,     3,     1,     1,     1],\n       [   65,   102,     5,   307,     4,     3,     1],\n       [  940,     4,     3,     1,     1,     1,     1],\n       [ 4987,     8,   503,     4,     3,     1,     1],\n       [   12,    61,   158,    14,    55,    11,     3],\n       [  540,    74,   605,     4,     3,     1,     1],\n       [ 3413,   206,     5,   173,   167,     4,     3],\n       [ 2267,  2548,     4,     3,     1,     1,     1],\n       [ 1667,     4,     3,     1,     1,     1,     1],\n       [  258,  1899,     4,     3,     1,     1,     1],\n       [ 1812,    27,   513,     4,     3,     1,     1],\n       [   80,  6624,     4,     3,     1,     1,     1],\n       [   12,    95,  2430,    11,     3,     1,     1],\n       [  114,    18, 10839,  3079,     4,     3,     1],\n       [  501,   137,     4,     3,     1,     1,     1],\n       [ 2467,  3795,     4,     3,     1,     1,     1],\n       [  442,     5,  3807,     4,     3,     1,     1],\n       [    9,    18, 24716,     4,     3,     1,     1],\n       [   12,    20,    29,    39,    11,     3,     1],\n       [ 1031,   185,    77,     4,     3,     1,     1],\n       [ 4180,    13, 12732,     4,     3,     1,     1],\n       [ 2224,  1894,     4,     3,     1,     1,     1],\n       [  442,     5,  6735,     4,     3,     1,     1],\n       [   12,    95,    11,     3,     1,     1,     1],\n       [   88,   151,  1089,    87,     3,     1,     1],\n       [   88, 14532,    87,     3,     1,     1,     1],\n       [   88,   595,    87,     3,     1,     1,     1],\n       [   88,    38,  2301,    87,     3,     1,     1]])"
     },
     "metadata": {},
     "execution_count": 66
    }
   ],
   "source": [
    "y_t"
   ]
  },
  {
   "cell_type": "code",
   "execution_count": 18,
   "metadata": {},
   "outputs": [
    {
     "output_type": "execute_result",
     "data": {
      "text/plain": "array([ 2,  5, 39,  8, 94,  5, 46, 86,  8,  4,  3,  1,  1,  1])"
     },
     "metadata": {},
     "execution_count": 18
    }
   ],
   "source": [
    "src1"
   ]
  },
  {
   "cell_type": "code",
   "execution_count": 19,
   "metadata": {
    "tags": []
   },
   "outputs": [
    {
     "output_type": "stream",
     "name": "stdout",
     "text": "[ 2  5 39  8 94  5 46 86  8  4  3  1  1  1]\n[  2  32  49 327  32 484 124   4   3   1   1   1   1   1]\n"
    },
    {
     "output_type": "execute_result",
     "data": {
      "text/plain": "(array(['<sos>', 'i', 'want', 'you', 'where', 'i', 'can', 'see', 'you',\n        '.', '<eos>', '<pad>', '<pad>', '<pad>'], dtype='<U5'),\n array(['<sos>', 'te', 'quiero', 'donde', 'te', 'pueda', 'ver', '.',\n        '<eos>', '<pad>', '<pad>', '<pad>', '<pad>', '<pad>'], dtype='<U6'))"
     },
     "metadata": {},
     "execution_count": 19
    }
   ],
   "source": [
    "print(src1)\n",
    "print(trg1)\n",
    "confirm_mapping(src1, trg1)"
   ]
  },
  {
   "cell_type": "code",
   "execution_count": 20,
   "metadata": {
    "tags": []
   },
   "outputs": [
    {
     "output_type": "stream",
     "name": "stdout",
     "text": "[  2   8 218   4   3]\n[   2 3456    4    3    1    1    1    1]\n"
    },
    {
     "output_type": "execute_result",
     "data": {
      "text/plain": "(array(['<sos>', 'you', 'lost', '.', '<eos>'], dtype='<U5'),\n array(['<sos>', 'perdiste', '.', '<eos>', '<pad>', '<pad>', '<pad>',\n        '<pad>'], dtype='<U8'))"
     },
     "metadata": {},
     "execution_count": 20
    }
   ],
   "source": [
    "print(src2)\n",
    "print(trg2)\n",
    "confirm_mapping(src2, trg2)"
   ]
  },
  {
   "cell_type": "code",
   "execution_count": 21,
   "metadata": {
    "tags": []
   },
   "outputs": [
    {
     "output_type": "stream",
     "name": "stdout",
     "text": "True\n"
    }
   ],
   "source": [
    "print(type(src2) == np.ndarray)"
   ]
  },
  {
   "cell_type": "code",
   "execution_count": 30,
   "metadata": {},
   "outputs": [
    {
     "output_type": "execute_result",
     "data": {
      "text/plain": "array([   2, 3456,    4,    3,    1,    1,    1])"
     },
     "metadata": {},
     "execution_count": 30
    }
   ],
   "source": [
    "x = trg2[:-1]\n",
    "x"
   ]
  },
  {
   "cell_type": "code",
   "execution_count": 25,
   "metadata": {},
   "outputs": [],
   "source": [
    "y = trg2[1:]"
   ]
  },
  {
   "cell_type": "code",
   "execution_count": null,
   "metadata": {},
   "outputs": [],
   "source": []
  }
 ],
 "metadata": {
  "kernelspec": {
   "display_name": "my-virtualenv-name",
   "language": "python",
   "name": "my-virtualenv-name"
  },
  "language_info": {
   "codemirror_mode": {
    "name": "ipython",
    "version": 3
   },
   "file_extension": ".py",
   "mimetype": "text/x-python",
   "name": "python",
   "nbconvert_exporter": "python",
   "pygments_lexer": "ipython3",
   "version": "3.8.3-final"
  }
 },
 "nbformat": 4,
 "nbformat_minor": 4
}